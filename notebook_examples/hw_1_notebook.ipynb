{
 "cells": [
  {
   "cell_type": "markdown",
   "metadata": {},
   "source": [
    "1. Create three dictionaries, each one will contain information about a particular student: Steve, Alice and Tyler\n",
    "a. Assign each dictionary to a variable – eg. steve, alice and tyler\n",
    "b. Create the following keys: name, homework, quizzes, and tests\n",
    "c. Set the value of the name key to the name of the student – e.g. Steve's name should be \"Steve\"\n",
    "d. Set the other keys – e.g. homework, quizzes, and tests – to empty lists (we'll fill them in later)\n",
    "e. Print these empty dictionaries"
   ]
  },
  {
   "cell_type": "code",
   "execution_count": 8,
   "metadata": {},
   "outputs": [
    {
     "name": "stdout",
     "output_type": "stream",
     "text": [
      "{'name': 'Steve', 'homework': [90, 97, 75, 92], 'quizzes': [88, 40, 94], 'tests': [75, 90]}\n",
      "{'name': 'Alice', 'homework': [100, 92, 98, 100], 'quizzes': [82, 83, 91], 'tests': [89, 97]}\n",
      "{'name': 'Tyler', 'homework': [0, 87, 75, 22], 'quizzes': [0, 75, 78], 'tests': [100, 100]}\n"
     ]
    }
   ],
   "source": [
    "steve = {'name':'Steve','homework':[90,97,75,92],'quizzes':[88, 40, 94], 'tests':[75, 90]}\n",
    "alice = {'name':'Alice','homework':[100, 92, 98, 100],'quizzes':[82, 83, 91], 'tests':[89, 97]}\n",
    "tyler = {'name':'Tyler','homework':[0, 87, 75, 22],'quizzes':[0, 75, 78], 'tests':[100, 100]}\n",
    "\n",
    "print(steve)\n",
    "print(alice)\n",
    "print(tyler)"
   ]
  },
  {
   "cell_type": "markdown",
   "metadata": {},
   "source": [
    "2. Now fill in the dictionaries above with the following scores and print the dictionaries:\n",
    "\n",
    "Steve\n",
    "Homework: 90, 97, 75, 92\n",
    "Quizzes: 88, 40, 94\n",
    "Tests: 75, 90\n",
    "Alice\n",
    "Homework: 100, 92, 98, 100\n",
    "Quizzes: 82, 83, 91\n",
    "Tests: 89, 97\n",
    "Tyler\n",
    "Homework: 0, 87, 75, 22\n",
    "Quizzes: 0, 75, 78\n",
    "Tests: 100, 100"
   ]
  },
  {
   "cell_type": "markdown",
   "metadata": {},
   "source": [
    "3. Create a list called students that contains your three students and print the list\n"
   ]
  },
  {
   "cell_type": "code",
   "execution_count": 9,
   "metadata": {},
   "outputs": [
    {
     "name": "stdout",
     "output_type": "stream",
     "text": [
      "[{'name': 'Steve', 'homework': [90, 97, 75, 92], 'quizzes': [88, 40, 94], 'tests': [75, 90]}, {'name': 'Alice', 'homework': [100, 92, 98, 100], 'quizzes': [82, 83, 91], 'tests': [89, 97]}, {'name': 'Tyler', 'homework': [0, 87, 75, 22], 'quizzes': [0, 75, 78], 'tests': [100, 100]}]\n"
     ]
    }
   ],
   "source": [
    "students = [steve,alice,tyler]\n",
    "\n",
    "print(students)"
   ]
  },
  {
   "cell_type": "markdown",
   "metadata": {},
   "source": [
    "4. Loop over your students list and print out the following for each student:\n",
    "  - Name: (print out the student's name)\n",
    "  - Homework: (print out the student's homework)\n",
    "  - Quizzes: (print out the student's quizzes)\n",
    "  - Tests: (print out the student's tests ",
    ")"
   ]
  },
  {
   "cell_type": "code",
   "execution_count": 10,
   "metadata": {},
   "outputs": [
    {
     "name": "stdout",
     "output_type": "stream",
     "text": [
      "Name: Steve\n",
      "Homework: [90, 97, 75, 92]\n",
      "Quizzes: [88, 40, 94]\n",
      "Tests: [75, 90]\n",
      "Name: Alice\n",
      "Homework: [100, 92, 98, 100]\n",
      "Quizzes: [82, 83, 91]\n",
      "Tests: [89, 97]\n",
      "Name: Tyler\n",
      "Homework: [0, 87, 75, 22]\n",
      "Quizzes: [0, 75, 78]\n",
      "Tests: [100, 100]\n"
     ]
    }
   ],
   "source": [
    "for student in students:\n",
    "\tprint(f\"Name: {student['name']}\")\n",
    "\tprint(f\"Homework: {student['homework']}\")\n",
    "\tprint(f\"Quizzes: {student['quizzes']}\")\n",
    "\tprint(f\"Tests: {student['tests']}\")\n"
   ]
  },
  {
   "cell_type": "markdown",
   "metadata": {},
   "source": [
    "5. Define a function to calculate the average of a list\n",
    "a. Define a function called average() that has one argument, a list of numbers\n",
    "b. Inside the function, use the built-in Python functions sum() and len() to calculate the average\n",
    "c. Return the result ",
    "\n",
    "d. Test it out to make sure it works"
   ]
  },
  {
   "cell_type": "code",
   "execution_count": 11,
   "metadata": {},
   "outputs": [],
   "source": [
    "def average(list):\n",
    "\taverage = sum(list)/len(list)\n",
    "\treturn(average)"
   ]
  },
  {
   "cell_type": "markdown",
   "metadata": {},
   "source": [
    "6. Write a function to calculate the weighted average score for a student\n",
    "a. Define a function called get_weighted_average() that takes one argument: student (see the dictionaries we created above)\n",
    "b. Use your average() function to calculate the average of the student's homework, quizzes, and test scores\n",
    "d. Return the weighted average score for each student (homework is 10%, quizzes are 30%, and tests are 60% ",
    " of the grade).\n",
    "e. Test out your get_weighted_average() function on each student\n"
   ]
  },
  {
   "cell_type": "code",
   "execution_count": 12,
   "metadata": {},
   "outputs": [],
   "source": [
    "def get_weighted_average(student):\n",
    "\thw_avg = average(student['homework']) *.1 \n",
    "\tqz_avg = average(student['quizzes']) *.3\n",
    "\ttest_avg = average(student['tests']) *.6\n",
    "\n",
    "\treturn hw_avg+ qz_avg + test_avg"
   ]
  },
  {
   "cell_type": "code",
   "execution_count": 13,
   "metadata": {},
   "outputs": [
    {
     "name": "stdout",
     "output_type": "stream",
     "text": [
      "Name:  Steve\n",
      "Weighted_average:  80.55\n",
      "Name:  Alice\n",
      "Weighted_average:  91.14999999999999\n",
      "Name:  Tyler\n",
      "Weighted_average:  79.9\n"
     ]
    }
   ],
   "source": [
    "for student in students:\n",
    "\tprint('Name: ', student['name'])\n",
    "\tprint('Weighted_average: ', get_weighted_average(student))"
   ]
  },
  {
   "cell_type": "markdown",
   "metadata": {},
   "source": [
    "7. Write a function to convert a grade into a letter grade\n",
    "a. Define a function called get_letter_grade() that has one argument called score (a number)\n",
    "b. Inside your function, use if / elif /else to return the following letter grades:\n",
    "      - 90 or above: “A\"\n",
    "      - 80 or above: “B\"\n",
    "      - 70 or above: “C\"\n",
    "      - 60 or above: “D\"\n",
    "      - Below 60: “F\"\n",
    "c. Test it out on a few different numbers to make sure it works properly\n",
    "d. Use a for loop to get each student's letter grade"
   ]
  },
  {
   "cell_type": "code",
   "execution_count": 14,
   "metadata": {},
   "outputs": [
    {
     "name": "stdout",
     "output_type": "stream",
     "text": [
      "Name:  Steve\n",
      "Letter Grade:  B\n",
      "Name:  Alice\n",
      "Letter Grade:  A\n",
      "Name:  Tyler\n",
      "Letter Grade:  C\n"
     ]
    }
   ],
   "source": [
    "def get_letter_grade(score):\n",
    "\tif score >=90:\n",
    "\t\treturn 'A'\n",
    "\telif score >=80:\n",
    "\t\treturn 'B'\n",
    "\telif score >=70:\n",
    "\t\treturn 'C'\n",
    "\telif score >=60:\n",
    "\t\treturn 'D'\n",
    "\telse:\n",
    "\t\treturn 'F'\n",
    "    \n",
    "for student in students:\n",
    "\tletter_grade = get_letter_grade(get_weighted_average(student))\n",
    "\t\n",
    "\tprint('Name: ', student['name'])\n",
    "\tprint('Letter Grade: ',letter_grade)"
   ]
  },
  {
   "cell_type": "markdown",
   "metadata": {},
   "source": [
    "8. Write a function to calculate the class average\n",
    "  a. Create a function called get_class_average() that has one argument, students (a list of dictionaries)\n",
    "  b. Inside the function, create a temporary empty list called results to store each student's grade\n",
    "  c. Loop over the list of students, appending each student's grade into your results list\n",
    "  d. Finally, return the average of the results\n",
    "  e. Test out your function by printing out the class average"
   ]
  },
  {
   "cell_type": "code",
   "execution_count": 15,
   "metadata": {},
   "outputs": [
    {
     "name": "stdout",
     "output_type": "stream",
     "text": [
      "Class Average:  83.86666666666666\n"
     ]
    }
   ],
   "source": [
    "def get_class_average(students):\n",
    "\tresults = []\n",
    "\n",
    "\tfor student in students:\n",
    "\t\tstudent_grade = get_weighted_average(student)\n",
    "\n",
    "\t\tresults.append(student_grade)\n",
    "\n",
    "\tclass_average = sum(results)/len(results)\n",
    "\n",
    "\treturn class_average\n",
    "\n",
    "print(f'Class Average: ',get_class_average(students))"
   ]
  },
  {
   "cell_type": "markdown",
   "metadata": {},
   "source": [
    "9. The class has now a new student, Thomas, with the following grades:\n",
    "  Homework: 90, 85, 80, 0\n",
    "  Quizzes: 80, 100, 87\n",
    "  Tests: 85, 90\n",
    "  a. Create a dictionary for Thomas (as you did in #1) \n",
    "  b. add him to the class, by appending the dictionary to your list of students\n",
    "  c. Calculate the new class average and print your results"
   ]
  },
  {
   "cell_type": "code",
   "execution_count": 16,
   "metadata": {},
   "outputs": [
    {
     "name": "stdout",
     "output_type": "stream",
     "text": [
      "New Class Average:  84.29375\n"
     ]
    }
   ],
   "source": [
    "thomas = {'name':'Thomas','homework':[90, 85, 80, 0],'quizzes':[80, 100, 87], 'tests':[85, 90]}\n",
    "\n",
    "students.append(thomas)\n",
    "\n",
    "new_class_average = get_class_average(students)\n",
    "\n",
    "print(f'New Class Average: ',new_class_average)"
   ]
  },
  {
   "cell_type": "code",
   "execution_count": null,
   "metadata": {},
   "outputs": [],
   "source": []
  }
 ],
 "metadata": {
  "kernelspec": {
   "display_name": "Python 3",
   "language": "python",
   "name": "python3"
  },
  "language_info": {
   "codemirror_mode": {
    "name": "ipython",
    "version": 3
   },
   "file_extension": ".py",
   "mimetype": "text/x-python",
   "name": "python",
   "nbconvert_exporter": "python",
   "pygments_lexer": "ipython3",
   "version": "3.8.3"
  }
 },
 "nbformat": 4,
 "nbformat_minor": 4
}
