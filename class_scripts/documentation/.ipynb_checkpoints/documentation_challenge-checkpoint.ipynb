{
 "cells": [
  {
   "cell_type": "markdown",
   "metadata": {},
   "source": [
    "# 1. Import pandas and load the `billboard_1978.csv` dataset into a DataFrame\n",
    "\n",
    "As a reminder, `billboard_1978.csv` is in your `jtc_class_code/datasets` folder"
   ]
  },
  {
   "cell_type": "code",
   "execution_count": null,
   "metadata": {},
   "outputs": [],
   "source": [
    "import pandas as pd"
   ]
  },
  {
   "cell_type": "code",
   "execution_count": null,
   "metadata": {},
   "outputs": [],
   "source": [
    "pd.read_csv('../,')"
   ]
  },
  {
   "cell_type": "markdown",
   "metadata": {},
   "source": [
    "# 2. Print out the top 7 rows of the DataFrame"
   ]
  },
  {
   "cell_type": "code",
   "execution_count": null,
   "metadata": {},
   "outputs": [],
   "source": []
  },
  {
   "cell_type": "markdown",
   "metadata": {},
   "source": [
    "# 3. Use the pandas docs to figure out how to sort the DataFrame so the fastest songs (highest BPM values) are at the top. Also, sort the DataFrame 'in place' without having to assign to a variable"
   ]
  },
  {
   "cell_type": "code",
   "execution_count": null,
   "metadata": {},
   "outputs": [],
   "source": []
  },
  {
   "cell_type": "markdown",
   "metadata": {},
   "source": [
    "# 4. Use the pandas docs to find out how to remove the `Genre` and `Maj_Min` columns from the DataFrame (while keeping the rest)\n",
    "\n",
    "Make sure you save the resulting DataFrame, either in place, or by assigning a new variable\n",
    "\n",
    "Hint: one way to phrase this is 'dropping' columns"
   ]
  },
  {
   "cell_type": "code",
   "execution_count": null,
   "metadata": {},
   "outputs": [],
   "source": []
  },
  {
   "cell_type": "markdown",
   "metadata": {},
   "source": [
    "# 5. Using [this page from the Pandas documentation](https://pandas.pydata.org/pandas-docs/stable/reference/api/pandas.Series.str.lower.html) as a starting point, find a way to make song titles all lower case and song artists all caps.\n",
    "\n",
    "Remember, each column in a DataFrame object is a data type called `Series` (or `pandas.Series`)"
   ]
  },
  {
   "cell_type": "code",
   "execution_count": null,
   "metadata": {},
   "outputs": [],
   "source": []
  },
  {
   "cell_type": "markdown",
   "metadata": {},
   "source": [
    "# 6. Using the Pandas docs, find a way to export your finished DataFrame to a new csv file called `billboard_1978_cleaned.csv`\n",
    "\n",
    "#### Bonus: can you get this file to be output right back into the `jtc_class_code/datasets/` folder?"
   ]
  },
  {
   "cell_type": "code",
   "execution_count": null,
   "metadata": {},
   "outputs": [],
   "source": []
  },
  {
   "cell_type": "markdown",
   "metadata": {},
   "source": [
    "# 7. Wrap-up: comment your code (including pasting in any links to the docs where you found solutions) and push your .ipynb file to github\n",
    "\n",
    "Congrats on finishing this challenge!"
   ]
  }
 ],
 "metadata": {
  "kernelspec": {
   "display_name": "Python 3",
   "language": "python",
   "name": "python3"
  },
  "language_info": {
   "codemirror_mode": {
    "name": "ipython",
    "version": 3
   },
   "file_extension": ".py",
   "mimetype": "text/x-python",
   "name": "python",
   "nbconvert_exporter": "python",
   "pygments_lexer": "ipython3",
   "version": "3.8.3"
  }
 },
 "nbformat": 4,
 "nbformat_minor": 4
}
